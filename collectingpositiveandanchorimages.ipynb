{
 "cells": [
  {
   "cell_type": "code",
   "execution_count": null,
   "metadata": {},
   "outputs": [],
   "source": [
    "# Import libraries \n",
    "import cv2\n",
    "import matplotlib.pyplot as plt\n",
    "import os\n",
    "import uuid\n",
    "from negativeimages import ANC_PATH, POS_PATH"
   ]
  },
  {
   "cell_type": "markdown",
   "metadata": {},
   "source": [
    "## Collecting positive and anchor images"
   ]
  },
  {
   "cell_type": "code",
   "execution_count": 2,
   "metadata": {},
   "outputs": [],
   "source": [
    "cap = cv2.VideoCapture(0)\n",
    "while cap.isOpened():\n",
    "    ret, frame = cap.read()\n",
    "\n",
    "    # Resiszing frame as per neg dataset - 250x250\n",
    "    frame = frame[150:150+250, 190:190+250, :]\n",
    "    \n",
    "    # Show image on screen\n",
    "    cv2.imshow(\"Image\", frame)\n",
    "    \n",
    "    # Collect anchor images \n",
    "    if cv2.waitKey(1) & 0xFF == ord('a'):\n",
    "        # Create unique file path for image\n",
    "        image_name = os.path.join(ANC_PATH, '{}.jpg'.format(uuid.uuid1()))\n",
    "        \n",
    "        # Write out anchor image \n",
    "        cv2.imwrite(image_name, frame)\n",
    "    \n",
    "    # Collect positive images\n",
    "    if cv2.waitKey(1) & 0xFF == ord('p'):\n",
    "        # Create unique file path for image\n",
    "        image_name = os.path.join(POS_PATH, '{}.jpg'.format(uuid.uuid1()))\n",
    "        \n",
    "        # Write out positive image \n",
    "        cv2.imwrite(image_name, frame)\n",
    "    \n",
    "    # quit \n",
    "    if cv2.waitKey(1) & 0xFF == ord('q'):\n",
    "        break\n",
    "\n",
    "# Release the webcam \n",
    "cap.release()\n",
    "# Close the image show frame \n",
    "cv2.destroyAllWindows()"
   ]
  },
  {
   "cell_type": "code",
   "execution_count": null,
   "metadata": {},
   "outputs": [],
   "source": []
  }
 ],
 "metadata": {
  "kernelspec": {
   "display_name": "base",
   "language": "python",
   "name": "python3"
  },
  "language_info": {
   "codemirror_mode": {
    "name": "ipython",
    "version": 3
   },
   "file_extension": ".py",
   "mimetype": "text/x-python",
   "name": "python",
   "nbconvert_exporter": "python",
   "pygments_lexer": "ipython3",
   "version": "3.12.4"
  }
 },
 "nbformat": 4,
 "nbformat_minor": 4
}
